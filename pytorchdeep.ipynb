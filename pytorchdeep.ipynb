{
  "nbformat": 4,
  "nbformat_minor": 0,
  "metadata": {
    "colab": {
      "provenance": [],
      "authorship_tag": "ABX9TyPHscirZ0SsgjmOqhYBr20h",
      "include_colab_link": true
    },
    "kernelspec": {
      "name": "python3",
      "display_name": "Python 3"
    },
    "language_info": {
      "name": "python"
    }
  },
  "cells": [
    {
      "cell_type": "markdown",
      "metadata": {
        "id": "view-in-github",
        "colab_type": "text"
      },
      "source": [
        "<a href=\"https://colab.research.google.com/github/Yashgabani845/chatbot/blob/main/pytorchdeep.ipynb\" target=\"_parent\"><img src=\"https://colab.research.google.com/assets/colab-badge.svg\" alt=\"Open In Colab\"/></a>"
      ]
    },
    {
      "cell_type": "code",
      "execution_count": 2,
      "metadata": {
        "colab": {
          "base_uri": "https://localhost:8080/"
        },
        "id": "n1RD4BheHzOs",
        "outputId": "73e74948-c173-4b2f-9f73-a373c0f98301"
      },
      "outputs": [
        {
          "output_type": "stream",
          "name": "stdout",
          "text": [
            "tensor([3, 4, 5])\n",
            "CUDA is not available\n"
          ]
        }
      ],
      "source": [
        "# prompt: write python code using pytorch\n",
        "\n",
        "\n",
        "\n",
        "import torch\n",
        "\n",
        "# Create a tensor\n",
        "x = torch.tensor([1, 2, 3])\n",
        "\n",
        "# Perform operations on the tensor\n",
        "y = x + 2\n",
        "print(y)\n",
        "\n",
        "# Check if CUDA is available\n",
        "if torch.cuda.is_available():\n",
        "  device = torch.device(\"cuda\")\n",
        "  print(\"CUDA is available\")\n",
        "else:\n",
        "  device = torch.device(\"cpu\")\n",
        "  print(\"CUDA is not available\")\n",
        "\n",
        "# Move tensor to the device\n",
        "x = x.to(device)\n"
      ]
    },
    {
      "cell_type": "code",
      "source": [
        "import torch"
      ],
      "metadata": {
        "id": "DXg-UG4pH0T6"
      },
      "execution_count": 3,
      "outputs": []
    }
  ]
}